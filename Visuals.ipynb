{
 "cells": [
  {
   "cell_type": "code",
   "execution_count": 1,
   "id": "ff6f95fa",
   "metadata": {},
   "outputs": [],
   "source": [
    "import pandas as pd\n",
    "import matplotlib.pyplot as plt\n",
    "from matplotlib import font_manager\n",
    "import seaborn as sns\n",
    "import pandas as pd"
   ]
  },
  {
   "cell_type": "code",
   "execution_count": 2,
   "id": "457b059c",
   "metadata": {},
   "outputs": [],
   "source": [
    "#font_prop = font_manager.FontProperties(fname='C:\\\\Windows\\\\Fonts\\\\source-sans-pro.ttf')\n",
    "font_reg = font_manager.FontProperties(fname=\"C:/Fonts/SourceSansPro-Regular.otf\")\n",
    "font_bold = font_manager.FontProperties(fname=\"C:/Fonts/SourceSansPro-Bold.otf\")\n",
    "font_italic = font_manager.FontProperties(fname=\"C:/Fonts/SourceSansPro-It.ttf\")\n",
    "font_light = font_manager.FontProperties(fname=\"C:/Fonts/SourceSansPro-Light.otf\")"
   ]
  },
  {
   "cell_type": "code",
   "execution_count": 3,
   "id": "738abdae",
   "metadata": {},
   "outputs": [],
   "source": [
    "sbt_palette4 = [\n",
    "    # Pastel main colors\n",
    "    \"#B3D4E0\",  # Pastel Light Blue\n",
    "    \"#146A4A\",  # Deep Green\n",
    "    \"#E0C15A\",  # Warm Yellow\n",
    "    \"#E65A70\",  # Coral Pink\n",
    "    \"#4B2C69\",  # Deep Purple\n",
    "\n",
    "    # Pastel extended palette\n",
    "    \"#A8E1E3\",  # Light Aqua\n",
    "    \"#2A7764\",  # Medium Teal\n",
    "    \"#F0DAA5\",  # Pale Yellow\n",
    "    \"#CC9E2F\",  # Rich Mustard\n",
    "    \"#7EB6CE\",  # Sky Blue\n",
    "    \"#104232\",  # Forest Green\n",
    "    \"#F4989C\",  # Soft Coral\n",
    "    \"#6B3F7D\",  # Indigo Purple\n",
    "    \"#D7E4CC\",  # Pale Sage\n",
    "    \"#D97158\",  # Terracotta\n",
    "    \"#D2ECF2\",  # Powder Blue\n",
    "    \"#2B4C6F\",  # Navy Blue\n",
    "    \"#9BD3AE\",  # Mint Green\n",
    "    \"#7A8B8D\",  # Slate Gray\n",
    "    \"#E8C68B\"   # Warm Sand\n",
    "]"
   ]
  },
  {
   "cell_type": "code",
   "execution_count": 5,
   "id": "d406a0d9",
   "metadata": {},
   "outputs": [],
   "source": [
    "data = {\n",
    "    'Category': ['A', 'B', 'C', 'D','E'],\n",
    "    'Value': [10, 23, 7, 15, 20]\n",
    "}\n",
    "df = pd.DataFrame(data)"
   ]
  },
  {
   "cell_type": "code",
   "execution_count": 12,
   "id": "1710a2bc",
   "metadata": {},
   "outputs": [
    {
     "data": {
      "image/png": "[encoded data removed]",
      "text/plain": [
       "<Figure size 640x480 with 1 Axes>"
      ]
     },
     "metadata": {},
     "output_type": "display_data"
    }
   ],
   "source": [
    "# Plot background color and bar color\t\n",
    "fig, ax = plt.subplots(facecolor=\"#f5f5f5\")\n",
    "ax.bar(df['Category'], df['Value'], color=sbt_palette4[:len(df)],zorder=3)\n",
    "ax.set_facecolor(\"#f5f5f5\") \n",
    "\n",
    "# Set title with font properties\n",
    "ax.set_title(\"Example Plot\", fontproperties=font_bold, fontsize=14,fontweight='bold', color=\"#0c402c\")\n",
    "ax.set_ylabel(\"Value\",fontproperties=font_reg, fontsize=12, color=\"#0c402c\")\n",
    "ax.set_xlabel(\"Category\", fontproperties=font_reg, fontsize=12, color=\"#0c402c\")\n",
    "ax.tick_params(axis='x', labelsize=10)\n",
    "ax.tick_params(axis='y', labelsize=10)\n",
    "for label in ax.get_xticklabels():\n",
    "\tlabel.set_fontproperties(font_light)\n",
    "for label in ax.get_yticklabels():\n",
    "\tlabel.set_fontproperties(font_light)\n",
    "\n",
    "#Spines and grid\n",
    "ax.spines['top'].set_visible(False)\n",
    "ax.spines['right'].set_visible(False)\t\n",
    "ax.spines['left'].set_visible(False)\t\n",
    "ax.spines['bottom'].set_color(\"#146A4A\")\n",
    "ax.yaxis.grid(True, linestyle='-', linewidth=0.2, color=\"#146A4A\", zorder=0)\n",
    "    \n",
    "plt.tight_layout()\n",
    "plt.show()"
   ]
  },
  {
   "cell_type": "code",
   "execution_count": null,
   "id": "b1e847e9",
   "metadata": {},
   "outputs": [],
   "source": []
  }
 ],
 "metadata": {
  "kernelspec": {
   "display_name": "base",
   "language": "python",
   "name": "python3"
  },
  "language_info": {
   "codemirror_mode": {
    "name": "ipython",
    "version": 3
   },
   "file_extension": ".py",
   "mimetype": "text/x-python",
   "name": "python",
   "nbconvert_exporter": "python",
   "pygments_lexer": "ipython3",
   "version": "3.12.7"
  }
 },
 "nbformat": 4,
 "nbformat_minor": 5
}
