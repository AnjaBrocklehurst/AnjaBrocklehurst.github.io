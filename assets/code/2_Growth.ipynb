{
 "cells": [
  {
   "cell_type": "markdown",
   "metadata": {},
   "source": [
    "# Context and climate change\n",
    "In the year 2025, practically all humans have heard about climate change. People do not always agree on its severity or urgency but there is a consensus amongst scientists that the changes are happening and that they are manmade i.e. caused by human industries and ways of living. The changes observed range from local pollution, ocean temperature, salitinty and acidification, atmospheric chemical composition to ecosystem collaps and biodiversity extinsion. In fact, these changes were observed as early as the 1970s, yet in 2025 people don't have the clarity of the emissions they cause to be able to make decisions to support sustainable change.\n",
    "\n",
    "If you are a human that has ever worried about climate change you might have already asked yourself, what can I do? You might even have gone into action and done some research on where your emissions come from and whether you can find alternative solutions to your habits. Through this research you probably also realized that this is complicated because companies will try to make themselves look better than they are, and not always because they want to trick you but because they don't know any better themselves.\n",
    "\n",
    "The problem that most companies have been facing the last years have been:\n",
    "- They didn't know if or how much they were contributing to climate change\n",
    "- They didn't know how to reduce emissions of their operations\n",
    "- They didn't know how to set realistic targets and how to talk about them\n",
    "\n",
    "## This is where SBTi comes in\n",
    "Scinence Based Target Initiative (SBTi) is an organisation that allows companies and financial instritutions to set and committ to emission regduction targets. The SBTi establishes and advocates for best practices in reducing emissions and setting net-zero targets, aligning with climate science.  The organisation creates standards, tools, and guidance to help companies and financial institutions set science-based targets informed by the latest climate research. Additionally, SBTi Services evaluates and verifies targets set by businesses and financial institutions. \n",
    "\n",
    "The SBTi has been active since 2015, when the first company committed to emission reduction targets, collecting information about company's targets and making them available on their (website)[https://sciencebasedtargets.org/]. In the next few chapters this data is analysed in terms of growth and popularity of the SBTi, the regulations that helped boost the organisation, as well as what countries and industries are putting forward their committments. Thereafter, the focus will switch over to Denmark, what companies were the first movers, what industries are dominating - and what companies should be there but aren't and who has retracted targets.\n",
    "\n",
    "## The popularity of SBTi\n",
    "As of 2025, over 10 thousand companies world wide has either committed to or set science based emissions reduction targets validated by the SBTi. The SBTi however, wasn't popular from the start and is done on a voluntary basis, meaning that these 10 thousand companies have registered without there being a specific regulation that promotes the SBTi. \n",
    "\n",
    "Graph answering the questions:\n",
    "* When did it start?\n",
    "* How has it grown?\n",
    "* \n",
    "\n",
    "To be able to be SBTi validated companies must apply, go though a validation process where their GHG accounting is audited, their targets need to be defined, reduction initiatives outlined and aligned with the Paris agreement's goals. The SBTi supports these companies in setting the right targets based on their GHG books and, if deemd reasonable, approved. The process is extensive and time consuming and therefore the validation has a slight delay which gives an insight into its growth in popularity. As mentioned before, the SBTi validated its first company in 2015, and thereonafter companies have been fighting to register for their commitments to be validated and publicly available.\n",
    "\n",
    "Graphs answering the questions:\n",
    "* What countries and industry sectors were the first to register?\n",
    "* With which countries and industries is SBTi most popular?\n",
    "\n",
    "The SBTi is founded, funded and partnered in the right circumstances, offering support to businesses that makes business sense - increaseing brand reputation, giving investor confidence, making businesses resilient against regulations, increases innovation toward optimisation, driving bottom line savings and giving competitive edge.\n",
    "\n",
    "Key statistics dashboard\n",
    "1. Total companies with SBTi targets validated by the SBTi by the end of 2024\n",
    "2. Increase in the number of companies with SBTi targets by the end of 2024 compared to 2023\n",
    "3. companies set SBTi targets for the first time in 2024\n",
    "4. Increase in the number of financial institutions with SBTi targets\n",
    "5. % of global market cap convered by business with SBTi targets or commitments\n",
    "6. Increase in companies with net-zero targets\n",
    "\n"
   ]
  }
 ],
 "metadata": {
  "kernelspec": {
   "display_name": "Python 3",
   "language": "python",
   "name": "python3"
  },
  "language_info": {
   "codemirror_mode": {
    "name": "ipython",
    "version": 3
   },
   "file_extension": ".py",
   "mimetype": "text/x-python",
   "name": "python",
   "nbconvert_exporter": "python",
   "pygments_lexer": "ipython3",
   "version": "3.11.0"
  }
 },
 "nbformat": 4,
 "nbformat_minor": 4
}
