{
 "cells": [
  {
   "cell_type": "markdown",
   "metadata": {},
   "source": [
    "## Objective\n",
    "Key statistics dashboard\n",
    "1. Total companies with SBTi targets validated by the SBTi by the end of 2024\n",
    "2. Increase in the number of companies with SBTi targets by the end of 2024 compared to 2023\n",
    "3. Nr of companies set SBTi targets for the first time in 2024\n",
    "4. Increase in companies with net-zero targets in 2024\n",
    "5. Total accumulative expired targets\n",
    "6. Total companies that have retracted their targets"
   ]
  },
  {
   "cell_type": "code",
   "execution_count": 3,
   "metadata": {},
   "outputs": [],
   "source": [
    "# Import necessary libraries\n",
    "import os\n",
    "import sys\n",
    "import subprocess\n",
    "import logging\n",
    "import time\n",
    "import json\n",
    "import pandas as pd\n",
    "import numpy as np\n",
    "import matplotlib.pyplot as plt\n",
    "import seaborn as sns"
   ]
  },
  {
   "cell_type": "code",
   "execution_count": 5,
   "metadata": {},
   "outputs": [
    {
     "ename": "SyntaxError",
     "evalue": "unterminated string literal (detected at line 1) (1737456922.py, line 1)",
     "output_type": "error",
     "traceback": [
      "\u001b[1;36m  Cell \u001b[1;32mIn[5], line 1\u001b[1;36m\u001b[0m\n\u001b[1;33m    filepath = 'C:\\Users\\gfjgu\\OneDrive - Danmarks Tekniske Universitet\\Dokumenter\\Courses\\02806 Social data analysis and visualisation\\AnjaBrocklehurst.github.io\\assets\\code\\ByCompany.csv\u001b[0m\n\u001b[1;37m               ^\u001b[0m\n\u001b[1;31mSyntaxError\u001b[0m\u001b[1;31m:\u001b[0m unterminated string literal (detected at line 1)\n"
     ]
    }
   ],
   "source": [
    "filepath = 'C:\\Users\\gfjgu\\OneDrive - Danmarks Tekniske Universitet\\Dokumenter\\Courses\\02806 Social data analysis and visualisation\\AnjaBrocklehurst.github.io\\assets\\code\\ByCompany.csv\n",
    "Comp = pd.read_csv(filepath, sep=';')\n",
    "filepath = 'C:\\Users\\gfjgu\\OneDrive - Danmarks Tekniske Universitet\\Dokumenter\\Courses\\02806 Social data analysis and visualisation\\AnjaBrocklehurst.github.io\\assets\\code\\ByCompany.csv'\n",
    "Targ = pd.read_csv(filepath, sep=';')"
   ]
  }
 ],
 "metadata": {
  "kernelspec": {
   "display_name": "base",
   "language": "python",
   "name": "python3"
  },
  "language_info": {
   "codemirror_mode": {
    "name": "ipython",
    "version": 3
   },
   "file_extension": ".py",
   "mimetype": "text/x-python",
   "name": "python",
   "nbconvert_exporter": "python",
   "pygments_lexer": "ipython3",
   "version": "3.12.7"
  }
 },
 "nbformat": 4,
 "nbformat_minor": 4
}
