{
 "cells": [
  {
   "cell_type": "code",
   "execution_count": null,
   "id": "ff6f95fa",
   "metadata": {},
   "outputs": [],
   "source": [
    "import pandas as pd\n",
    "import matplotlib.pyplot as plt\n",
    "from matplotlib import font_manager\n",
    "from matplotlib.lines import Line2D\n",
    "import seaborn as sns\n",
    "import pandas as pd"
   ]
  },
  {
   "cell_type": "markdown",
   "id": "b5edf28f",
   "metadata": {},
   "source": [
    "# Read first\n",
    "background color: #f5f5f5  \n",
    "\n",
    "Text color: #122E8A  \n",
    "\n"
   ]
  },
  {
   "cell_type": "code",
   "execution_count": 2,
   "id": "457b059c",
   "metadata": {},
   "outputs": [],
   "source": [
    "#font_prop = font_manager.FontProperties(fname='C:\\\\Windows\\\\Fonts\\\\source-sans-pro.ttf')\n",
    "font_reg = font_manager.FontProperties(fname=\"C:/Fonts/SourceSansPro-Regular.otf\")\n",
    "font_bold = font_manager.FontProperties(fname=\"C:/Fonts/SourceSansPro-Bold.otf\")\n",
    "font_italic = font_manager.FontProperties(fname=\"C:/Fonts/SourceSansPro-It.ttf\")\n",
    "font_light = font_manager.FontProperties(fname=\"C:/Fonts/SourceSansPro-Light.otf\")"
   ]
  },
  {
   "cell_type": "code",
   "execution_count": 10,
   "id": "c097fad4",
   "metadata": {},
   "outputs": [],
   "source": [
    "sbt_palette = [\n",
    "    \"#F26749\",  # Crab\n",
    "    \"#F5B7B1\",  # Warm Blush\n",
    "    \"#83A5F2\",  # Vista blue\n",
    "    \"#204ECF\",  # Deep Ocean\n",
    "    \"#EA9836\",  # Butterscotch\n",
    "    # Pastel extended palette\n",
    "    \"#F28C70\",  # Lighter Crab\n",
    "    \"#B23A1D\",  # Darker Crab\n",
    "    \"#FADBD8\",  # Lighter Warm Blush\n",
    "    \"#E5989B\",  # Deeper Warm Blush\n",
    "    \"#A1B6F5\",  # Lighter Vista Blue\n",
    "    \"#516FD9\",  # Midpoint Blue\n",
    "    \"#122E8A\",  # Darker Deep Ocean\n",
    "    \"#7C9BF2\",  # Muted Vista Blue\n",
    "    \"#A8D5BA\",  # Lighter Green (Replacing Lighter Butterscotch)\n",
    "    \"#9C4700\",  # More Contrasty Butterscotch\n",
    "    \"#F2E1DC\",  # Soft Neutral\n",
    "    \"#F4C2C2\",  # Warm Neutral\n",
    "    \"#CBD4F7\",  # Soft Cool Tone\n",
    "    \"#BFD0E5\",  # Neutral Blue Tint\n",
    "    \"#D47A5F\",  # Earthy Warm Blend\n",
    "    \"#8C9EFF\",  # Punchy Cool Accent\n",
    "    \"#F7D59C\",  # Pale Orange Glow\n",
    "    \"#F7A76C\",  # Vibrant Warm\n",
    "    \"#D44A1C\",  # Bold Warm Tone\n",
    "    \"#8390F2\",  # Cool Complement\n",
    "]"
   ]
  },
  {
   "cell_type": "code",
   "execution_count": 11,
   "id": "d406a0d9",
   "metadata": {},
   "outputs": [],
   "source": [
    "data = {\n",
    "    'Category': ['A', 'B', 'C', 'D','E'],\n",
    "    'Value': [10, 23, 7, 15, 20]\n",
    "}\n",
    "df = pd.DataFrame(data)"
   ]
  },
  {
   "cell_type": "code",
   "execution_count": null,
   "id": "1076c66a",
   "metadata": {},
   "outputs": [
    {
     "data": {
      "image/png": "[encoded data removed]",
      "text/plain": [
       "<Figure size 1000x600 with 1 Axes>"
      ]
     },
     "metadata": {},
     "output_type": "display_data"
    }
   ],
   "source": [
    "# Plot background color and bar color\n",
    "fig, ax = plt.subplots(facecolor=\"#f5f5f5\", figsize=(10, 6))  # Set fixed plot size (width, height)\n",
    "\n",
    "# Adjust the width of the bars here to change the distance between them (default is 0.8)\n",
    "bar_width = 0.6  # Change this value to make bars closer (lower value) or farther apart (higher value)\n",
    "bars = ax.bar(df['Category'], df['Value'], color=sbt_palette[:len(df)], zorder=3, width=bar_width)\n",
    "\n",
    "ax.set_facecolor(\"#f5f5f5\")\n",
    "\n",
    "# Set title with font properties\n",
    "ax.set_title(\"Example Plot\", fontproperties=font_bold, fontsize=18, fontweight='bold', color=\"#122E8A\")\n",
    "ax.set_ylabel(\"Value\", fontproperties=font_light, fontsize=16, color=\"#122E8A\")\n",
    "ax.set_xlabel(\"Category\", fontproperties=font_light, fontsize=16, color=\"#122E8A\")\n",
    "ax.tick_params(axis='x', labelsize=10)\n",
    "ax.tick_params(axis='y', labelsize=20)\n",
    "\n",
    "for label in ax.get_xticklabels():\n",
    "    label.set_fontproperties(font_light)\n",
    "\n",
    "for label in ax.get_yticklabels():\n",
    "    label.set_fontproperties(font_light)\n",
    "\n",
    "# Add data labels to the right of the bars\n",
    "for bar in bars:\n",
    "    yval = bar.get_height()  # Get the height of each bar (value)\n",
    "    xval = bar.get_x() + bar.get_width()  # Position to the right of the bar\n",
    "    ax.text(xval+0.05, yval/2, f'{yval:.0f}', ha='left', va='center', fontsize=18, color=\"#122E8A\", fontproperties=font_bold)\n",
    "\n",
    "# Spines and grid\n",
    "ax.spines['top'].set_visible(False)\n",
    "ax.spines['right'].set_visible(False)    \n",
    "ax.spines['left'].set_visible(False)    \n",
    "ax.spines['bottom'].set_color(\"#122E8A\")\n",
    "ax.yaxis.grid(True, linestyle='-', linewidth=0.2, color=\"#122E8A\", zorder=0)\n",
    "\n",
    "plt.tight_layout()\n",
    "plt.show()\n"
   ]
  },
  {
   "cell_type": "code",
   "execution_count": null,
   "id": "356ad108",
   "metadata": {},
   "outputs": [],
   "source": []
  }
 ],
 "metadata": {
  "kernelspec": {
   "display_name": "base",
   "language": "python",
   "name": "python3"
  },
  "language_info": {
   "codemirror_mode": {
    "name": "ipython",
    "version": 3
   },
   "file_extension": ".py",
   "mimetype": "text/x-python",
   "name": "python",
   "nbconvert_exporter": "python",
   "pygments_lexer": "ipython3",
   "version": "3.12.7"
  }
 },
 "nbformat": 4,
 "nbformat_minor": 5
}
